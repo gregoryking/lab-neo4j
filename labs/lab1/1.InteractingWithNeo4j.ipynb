{
 "cells": [
  {
   "cell_type": "markdown",
   "metadata": {},
   "source": [
    "# Interacting with Neo4j"
   ]
  },
  {
   "cell_type": "markdown",
   "metadata": {},
   "source": [
    "## Using py2neo to connect to Neo4j and clear the database"
   ]
  },
  {
   "cell_type": "code",
   "execution_count": null,
   "metadata": {},
   "outputs": [],
   "source": [
    "from py2neo import Graph\n",
    "graph = Graph(\"bolt://127.0.0.1:7687\")\n",
    "graph.delete_all()\n",
    "\n",
    "print(\"Number of nodes: {} \".format(len(graph.nodes)))\n",
    "print(\"Number of relationships: {} \".format(len(graph.nodes)))"
   ]
  },
  {
   "cell_type": "markdown",
   "metadata": {},
   "source": [
    "## Querying via ipython-cypher "
   ]
  },
  {
   "cell_type": "code",
   "execution_count": null,
   "metadata": {},
   "outputs": [],
   "source": [
    "%load_ext cypher"
   ]
  },
  {
   "cell_type": "markdown",
   "metadata": {},
   "source": [
    "### Nodes"
   ]
  },
  {
   "cell_type": "code",
   "execution_count": null,
   "metadata": {},
   "outputs": [],
   "source": [
    "%%cypher\n",
    "CREATE (person1:Person {name:'Asdrubal'}),\n",
    "       (person2:Person {name:'Marcos'}   )"
   ]
  },
  {
   "cell_type": "markdown",
   "metadata": {},
   "source": [
    "### Relationships"
   ]
  },
  {
   "cell_type": "code",
   "execution_count": null,
   "metadata": {},
   "outputs": [],
   "source": [
    "%%cypher\n",
    "CREATE (person1:Person {name:'Matheus'})-[:LIKES]->(movie1:Movie {title:'Inglourious Basterds', year:2009}),\n",
    "       (person2:Person {name:'Lais'}   )-[:LIKES]->(movie1)"
   ]
  },
  {
   "cell_type": "markdown",
   "metadata": {},
   "source": [
    "### Querying"
   ]
  },
  {
   "cell_type": "code",
   "execution_count": null,
   "metadata": {},
   "outputs": [],
   "source": [
    "%%cypher\n",
    "MATCH (person:Person)-[:LIKES]->(movie:Movie)\n",
    "RETURN person.name as person_name, movie"
   ]
  },
  {
   "cell_type": "code",
   "execution_count": null,
   "metadata": {},
   "outputs": [],
   "source": [
    "%%cypher\n",
    "MATCH (person:Person)-[:LIKES]->(movie:Movie)\n",
    "WHERE  person.name = 'Matheus'\n",
    "RETURN person.name as person_name, movie.title"
   ]
  },
  {
   "cell_type": "markdown",
   "metadata": {},
   "source": [
    "## Visualizing the graph"
   ]
  },
  {
   "cell_type": "code",
   "execution_count": null,
   "metadata": {},
   "outputs": [],
   "source": [
    "import sys\n",
    "sys.path.insert(0, '../../resources/python/')\n",
    "!mkdir figure"
   ]
  },
  {
   "cell_type": "code",
   "execution_count": null,
   "metadata": {},
   "outputs": [],
   "source": [
    "from datasci4health.graphdrawer.visgraph import draw\n",
    "\n",
    "options = {}\n",
    "draw(graph, options, physics=True)"
   ]
  },
  {
   "cell_type": "code",
   "execution_count": null,
   "metadata": {},
   "outputs": [],
   "source": [
    "options = {\"Person\": \"name\", \"Movie\": \"title\"}\n",
    "draw(graph, options, physics=True)"
   ]
  },
  {
   "cell_type": "markdown",
   "metadata": {},
   "source": [
    "## Programmatical querying via py2neo\n",
    "\n",
    "Examples adapted from http://nicolewhite.github.io/neo4j-jupyter/"
   ]
  },
  {
   "cell_type": "code",
   "execution_count": null,
   "metadata": {},
   "outputs": [],
   "source": [
    "from py2neo import Node, Relationship"
   ]
  },
  {
   "cell_type": "markdown",
   "metadata": {},
   "source": [
    "### Nodes"
   ]
  },
  {
   "cell_type": "code",
   "execution_count": null,
   "metadata": {},
   "outputs": [],
   "source": [
    "nicole = Node(\"Person\", name=\"Nicole\", age=24)\n",
    "drew   = Node(\"Person\", name=\"Drew\", age=20)\n",
    "\n",
    "mtdew    = Node(\"Drink\", name=\"Mountain Dew\", calories=9000)\n",
    "cokezero = Node(\"Drink\", name=\"Coke Zero\", calories=0)\n",
    "\n",
    "coke     = Node(\"Manufacturer\", name=\"Coca Cola\")\n",
    "pepsi    = Node(\"Manufacturer\", name=\"Pepsi\")\n",
    "\n",
    "graph.create(nicole | drew | mtdew | cokezero | coke | pepsi)"
   ]
  },
  {
   "cell_type": "code",
   "execution_count": null,
   "metadata": {},
   "outputs": [],
   "source": [
    "options = {\"Person\": \"name\", \"Drink\": \"name\", \"Manufacturer\": \"name\", \"Movie\": \"title\"}\n",
    "draw(graph, options, physics=True)"
   ]
  },
  {
   "cell_type": "markdown",
   "metadata": {},
   "source": [
    "### Relationships"
   ]
  },
  {
   "cell_type": "code",
   "execution_count": null,
   "metadata": {},
   "outputs": [],
   "source": [
    "from py2neo import Relationship\n",
    "\n",
    "graph.create(Relationship(nicole, \"LIKES\", cokezero))\n",
    "graph.create(Relationship(nicole, \"LIKES\", mtdew))\n",
    "graph.create(Relationship(drew,   \"LIKES\", mtdew))\n",
    "graph.create(Relationship(coke,   \"MAKES\", cokezero))\n",
    "graph.create(Relationship(pepsi,  \"MAKES\", mtdew))\n",
    "\n",
    "draw(graph, options, physics=True)"
   ]
  },
  {
   "cell_type": "markdown",
   "metadata": {},
   "source": [
    "### py2neo cypher"
   ]
  },
  {
   "cell_type": "code",
   "execution_count": null,
   "metadata": {},
   "outputs": [],
   "source": [
    "query = \"\"\"\n",
    "MATCH (person:Person)-[:LIKES]->(drink:Drink)\n",
    "RETURN person.name AS name, drink.name AS drink\n",
    "\"\"\"\n",
    "\n",
    "data = graph.run(query)\n",
    "\n",
    "for d in data:\n",
    "    print(d)"
   ]
  },
  {
   "cell_type": "markdown",
   "metadata": {},
   "source": [
    "## ipython-cypher + pandas"
   ]
  },
  {
   "cell_type": "code",
   "execution_count": null,
   "metadata": {},
   "outputs": [],
   "source": [
    "results = %cypher MATCH (person:Person)-[:LIKES]->(drink:Drink) \\\n",
    "                  RETURN person.name AS name, drink.name AS drink\n",
    "    \n",
    "df = results.get_dataframe()\n",
    "\n",
    "df"
   ]
  },
  {
   "cell_type": "markdown",
   "metadata": {},
   "source": [
    "## ipython-cypher + networkx"
   ]
  },
  {
   "cell_type": "code",
   "execution_count": null,
   "metadata": {},
   "outputs": [],
   "source": [
    "import networkx as nx\n",
    "%matplotlib inline\n",
    "\n",
    "results = %cypher MATCH p = (:Person)-[:LIKES]->(:Drink) RETURN p\n",
    "\n",
    "g = results.get_graph()\n",
    "\n",
    "nx.draw(g)"
   ]
  },
  {
   "cell_type": "code",
   "execution_count": null,
   "metadata": {},
   "outputs": [],
   "source": [
    "g.nodes(data=True)"
   ]
  },
  {
   "cell_type": "code",
   "execution_count": null,
   "metadata": {},
   "outputs": [],
   "source": [
    "nx.degree(g)"
   ]
  },
  {
   "cell_type": "markdown",
   "metadata": {},
   "source": [
    "## jgraph\n",
    "http://patrickfuller.github.io/jgraph/examples/ipython.html"
   ]
  }
 ],
 "metadata": {
  "kernelspec": {
   "display_name": "Python 3",
   "language": "python",
   "name": "python3"
  },
  "language_info": {
   "codemirror_mode": {
    "name": "ipython",
    "version": 3
   },
   "file_extension": ".py",
   "mimetype": "text/x-python",
   "name": "python",
   "nbconvert_exporter": "python",
   "pygments_lexer": "ipython3",
   "version": "3.7.3"
  }
 },
 "nbformat": 4,
 "nbformat_minor": 2
}
